{
 "cells": [
  {
   "cell_type": "code",
   "execution_count": 9,
   "id": "05518dd0-e29c-4d58-acb8-0ec2ed33a0f4",
   "metadata": {},
   "outputs": [
    {
     "name": "stdout",
     "output_type": "stream",
     "text": [
      "Toss The coin Game\n",
      "Welcome to Toss the coin\n"
     ]
    },
    {
     "name": "stdin",
     "output_type": "stream",
     "text": [
      "please enter your choice tails\n"
     ]
    },
    {
     "name": "stdout",
     "output_type": "stream",
     "text": [
      "user choice Tails\n",
      "coin result Tails\n",
      "You Win!\n"
     ]
    }
   ],
   "source": [
    "#Coin Toss Game\n",
    "print('Toss The coin Game')\n",
    "#Welcome User\n",
    "print('Welcome to Toss the coin')\n",
    "#ask user Heads or Tails\n",
    "user_choice= input('please enter your choice')\n",
    "# Display user choice \n",
    "print('user choice',user_choice.title())\n",
    "# Toss the Coin \n",
    "import random \n",
    "\n",
    "if random.choice('ht')=='h' :\n",
    "    coin_toss ='Heads'\n",
    "else :\n",
    "    coin_toss = 'Tails'\n",
    "print('coin result',coin_toss)\n",
    "#if Coin toss==user choice <-- you win\n",
    "if coin_toss.lower() == user_choice.lower() :\n",
    "    print('You Win!')\n",
    "#else you loset\n",
    "else :\n",
    "    print('You Lose!')\n",
    "    "
   ]
  },
  {
   "cell_type": "code",
   "execution_count": null,
   "id": "e24e6362-f0da-4a3a-8a42-405fd9defe1b",
   "metadata": {},
   "outputs": [],
   "source": []
  }
 ],
 "metadata": {
  "kernelspec": {
   "display_name": "Python 3 (ipykernel)",
   "language": "python",
   "name": "python3"
  },
  "language_info": {
   "codemirror_mode": {
    "name": "ipython",
    "version": 3
   },
   "file_extension": ".py",
   "mimetype": "text/x-python",
   "name": "python",
   "nbconvert_exporter": "python",
   "pygments_lexer": "ipython3",
   "version": "3.12.4"
  }
 },
 "nbformat": 4,
 "nbformat_minor": 5
}
